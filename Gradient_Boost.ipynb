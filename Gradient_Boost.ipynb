{
  "nbformat": 4,
  "nbformat_minor": 0,
  "metadata": {
    "colab": {
      "provenance": [],
      "include_colab_link": true
    },
    "kernelspec": {
      "name": "python3",
      "display_name": "Python 3"
    },
    "language_info": {
      "name": "python"
    }
  },
  "cells": [
    {
      "cell_type": "markdown",
      "metadata": {
        "id": "view-in-github",
        "colab_type": "text"
      },
      "source": [
        "<a href=\"https://colab.research.google.com/github/AndrewStaines/AIML/blob/main/Gradient_Boost.ipynb\" target=\"_parent\"><img src=\"https://colab.research.google.com/assets/colab-badge.svg\" alt=\"Open In Colab\"/></a>"
      ]
    },
    {
      "cell_type": "code",
      "execution_count": null,
      "metadata": {
        "id": "kflA9GPifZhF"
      },
      "outputs": [],
      "source": [
        "import numpy as np\n",
        "import pandas as pd\n",
        "import matplotlib.pyplot as plt\n",
        "import seaborn as sns"
      ]
    },
    {
      "cell_type": "code",
      "source": [
        "train = pd.read_csv('https://raw.githubusercontent.com/ezioauditore-tech/AI/main/datasets/Titanic/train.csv')\n",
        "test = pd.read_csv('https://raw.githubusercontent.com/ezioauditore-tech/AI/main/datasets/Titanic/test.csv')"
      ],
      "metadata": {
        "id": "HwLzX4uUgTh8"
      },
      "execution_count": null,
      "outputs": []
    },
    {
      "cell_type": "code",
      "source": [
        "train.info() , test.info()"
      ],
      "metadata": {
        "colab": {
          "base_uri": "https://localhost:8080/"
        },
        "id": "K_IuVClvg9NR",
        "outputId": "438895ad-d1e9-4439-cbf4-fb5f2eec5b99"
      },
      "execution_count": null,
      "outputs": [
        {
          "output_type": "stream",
          "name": "stdout",
          "text": [
            "<class 'pandas.core.frame.DataFrame'>\n",
            "RangeIndex: 891 entries, 0 to 890\n",
            "Data columns (total 12 columns):\n",
            " #   Column       Non-Null Count  Dtype  \n",
            "---  ------       --------------  -----  \n",
            " 0   PassengerId  891 non-null    int64  \n",
            " 1   Survived     891 non-null    int64  \n",
            " 2   Pclass       891 non-null    int64  \n",
            " 3   Name         891 non-null    object \n",
            " 4   Sex          891 non-null    object \n",
            " 5   Age          714 non-null    float64\n",
            " 6   SibSp        891 non-null    int64  \n",
            " 7   Parch        891 non-null    int64  \n",
            " 8   Ticket       891 non-null    object \n",
            " 9   Fare         891 non-null    float64\n",
            " 10  Cabin        204 non-null    object \n",
            " 11  Embarked     889 non-null    object \n",
            "dtypes: float64(2), int64(5), object(5)\n",
            "memory usage: 83.7+ KB\n",
            "<class 'pandas.core.frame.DataFrame'>\n",
            "RangeIndex: 418 entries, 0 to 417\n",
            "Data columns (total 11 columns):\n",
            " #   Column       Non-Null Count  Dtype  \n",
            "---  ------       --------------  -----  \n",
            " 0   PassengerId  418 non-null    int64  \n",
            " 1   Pclass       418 non-null    int64  \n",
            " 2   Name         418 non-null    object \n",
            " 3   Sex          418 non-null    object \n",
            " 4   Age          332 non-null    float64\n",
            " 5   SibSp        418 non-null    int64  \n",
            " 6   Parch        418 non-null    int64  \n",
            " 7   Ticket       418 non-null    object \n",
            " 8   Fare         417 non-null    float64\n",
            " 9   Cabin        91 non-null     object \n",
            " 10  Embarked     418 non-null    object \n",
            "dtypes: float64(2), int64(4), object(5)\n",
            "memory usage: 36.0+ KB\n"
          ]
        },
        {
          "output_type": "execute_result",
          "data": {
            "text/plain": [
              "(None, None)"
            ]
          },
          "metadata": {},
          "execution_count": 113
        }
      ]
    },
    {
      "cell_type": "code",
      "source": [
        "train.set_index(\"PassengerId\",inplace=True)\n",
        "test.set_index(\"PassengerId\",inplace=True)"
      ],
      "metadata": {
        "id": "MqfoeWaLhlDn"
      },
      "execution_count": null,
      "outputs": []
    },
    {
      "cell_type": "code",
      "source": [
        "y_tr = train[\"Survived\"]"
      ],
      "metadata": {
        "id": "yF0tH-HdiJjM"
      },
      "execution_count": null,
      "outputs": []
    },
    {
      "cell_type": "code",
      "source": [
        "train.drop(labels='Survived',axis=1,inplace=True)"
      ],
      "metadata": {
        "id": "mrSt_q92iSsK"
      },
      "execution_count": null,
      "outputs": []
    },
    {
      "cell_type": "code",
      "source": [
        "train.shape"
      ],
      "metadata": {
        "colab": {
          "base_uri": "https://localhost:8080/"
        },
        "id": "sgDOfDw0ia_C",
        "outputId": "3cb4c1f0-9b55-490e-ca3a-2fb18c18f570"
      },
      "execution_count": null,
      "outputs": [
        {
          "output_type": "execute_result",
          "data": {
            "text/plain": [
              "(891, 10)"
            ]
          },
          "metadata": {},
          "execution_count": 117
        }
      ]
    },
    {
      "cell_type": "code",
      "source": [
        "tr_te=train.append(test)"
      ],
      "metadata": {
        "colab": {
          "base_uri": "https://localhost:8080/"
        },
        "id": "SLDKIYLSi0O9",
        "outputId": "42625265-8c79-42b3-99d4-c0e0b5c31771"
      },
      "execution_count": null,
      "outputs": [
        {
          "output_type": "stream",
          "name": "stderr",
          "text": [
            "<ipython-input-118-c527b8718cb9>:1: FutureWarning: The frame.append method is deprecated and will be removed from pandas in a future version. Use pandas.concat instead.\n",
            "  tr_te=train.append(test)\n"
          ]
        }
      ]
    },
    {
      "cell_type": "code",
      "source": [
        "columns=['Name','Age','SibSp','Ticket','Cabin','Parch','Embarked']\n",
        "tr_te.drop(labels=columns,axis=1,inplace=True)"
      ],
      "metadata": {
        "id": "juaGmbv3jSBX"
      },
      "execution_count": null,
      "outputs": []
    },
    {
      "cell_type": "code",
      "source": [
        "tr_te_d = pd.get_dummies(tr_te, columns=['Sex'])"
      ],
      "metadata": {
        "id": "RILxuiJxpdqK"
      },
      "execution_count": null,
      "outputs": []
    },
    {
      "cell_type": "code",
      "source": [
        "tr_te_d.shape"
      ],
      "metadata": {
        "colab": {
          "base_uri": "https://localhost:8080/"
        },
        "id": "0nDezQv0qmp_",
        "outputId": "707230ce-2069-45e7-a9b3-1cca766cd13e"
      },
      "execution_count": null,
      "outputs": [
        {
          "output_type": "execute_result",
          "data": {
            "text/plain": [
              "(1309, 4)"
            ]
          },
          "metadata": {},
          "execution_count": 121
        }
      ]
    },
    {
      "cell_type": "code",
      "source": [
        "tr_te_d.info()"
      ],
      "metadata": {
        "colab": {
          "base_uri": "https://localhost:8080/"
        },
        "id": "C4uNwLsvqrIB",
        "outputId": "a415d900-5630-4b01-cfab-c76f64166352"
      },
      "execution_count": null,
      "outputs": [
        {
          "output_type": "stream",
          "name": "stdout",
          "text": [
            "<class 'pandas.core.frame.DataFrame'>\n",
            "Int64Index: 1309 entries, 1 to 1309\n",
            "Data columns (total 4 columns):\n",
            " #   Column      Non-Null Count  Dtype  \n",
            "---  ------      --------------  -----  \n",
            " 0   Pclass      1309 non-null   int64  \n",
            " 1   Fare        1308 non-null   float64\n",
            " 2   Sex_female  1309 non-null   uint8  \n",
            " 3   Sex_male    1309 non-null   uint8  \n",
            "dtypes: float64(1), int64(1), uint8(2)\n",
            "memory usage: 33.2 KB\n"
          ]
        }
      ]
    },
    {
      "cell_type": "code",
      "source": [
        "tr_te_d.fillna(value=0.0,inplace=True)"
      ],
      "metadata": {
        "id": "yTUuS1c0qzEH"
      },
      "execution_count": null,
      "outputs": []
    },
    {
      "cell_type": "code",
      "source": [
        "x_tr = tr_te_d.values[0:891]\n",
        "x_te = tr_te_d.values[891:]"
      ],
      "metadata": {
        "id": "g3niyym7rBKG"
      },
      "execution_count": null,
      "outputs": []
    },
    {
      "cell_type": "code",
      "source": [
        "from sklearn.preprocessing import MinMaxScaler\n",
        "\n",
        "scl = MinMaxScaler()\n",
        "x_tr_scl = scl.fit_transform(x_tr)\n",
        "x_te_scl = scl.transform(x_te)"
      ],
      "metadata": {
        "id": "8Yt7out-ruZ7"
      },
      "execution_count": null,
      "outputs": []
    },
    {
      "cell_type": "code",
      "source": [
        "from sklearn.model_selection import train_test_split\n",
        "\n",
        "x_trs,x_tes,y_trs,y_tes = train_test_split(x_tr_scl,y_tr,random_state=0)"
      ],
      "metadata": {
        "id": "a-7o7IKrsJuO"
      },
      "execution_count": null,
      "outputs": []
    },
    {
      "cell_type": "code",
      "source": [
        "from sklearn.ensemble import GradientBoostingClassifier\n",
        "from sklearn.metrics import classification_report, confusion_matrix"
      ],
      "metadata": {
        "id": "HYX1P9kIuicj"
      },
      "execution_count": null,
      "outputs": []
    },
    {
      "cell_type": "code",
      "source": [
        "lr = [0.05,0.1,0.25,0.5,0.75,1]\n",
        "for i in lr:\n",
        "  gb=GradientBoostingClassifier(n_estimators=20, learning_rate=i , max_features=7, max_depth=2, random_state= 0)\n",
        "  gb.fit(x_trs,y_trs)\n",
        "  print(\"Learning Rate:\\n\",i)\n",
        "  print(\"Training {0:.3f}\".format(gb.score(x_trs, y_trs)))\n",
        "  print(\"Validate {0:.3f}\".format(gb.score(x_tes, y_tes)))"
      ],
      "metadata": {
        "colab": {
          "base_uri": "https://localhost:8080/"
        },
        "id": "bp4hITW5t77o",
        "outputId": "12878c7e-5d8f-41c1-f1c1-c0cc6169c5ad"
      },
      "execution_count": null,
      "outputs": [
        {
          "output_type": "stream",
          "name": "stdout",
          "text": [
            "Learning Rate:\n",
            " 0.05\n",
            "Training 0.783\n",
            "Validate 0.798\n",
            "Learning Rate:\n",
            " 0.1\n",
            "Training 0.816\n",
            "Validate 0.803\n",
            "Learning Rate:\n",
            " 0.25\n",
            "Training 0.820\n",
            "Validate 0.803\n",
            "Learning Rate:\n",
            " 0.5\n",
            "Training 0.843\n",
            "Validate 0.812\n",
            "Learning Rate:\n",
            " 0.75\n",
            "Training 0.844\n",
            "Validate 0.807\n",
            "Learning Rate:\n",
            " 1\n",
            "Training 0.861\n",
            "Validate 0.825\n"
          ]
        }
      ]
    }
  ]
}