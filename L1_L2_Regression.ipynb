{
  "nbformat": 4,
  "nbformat_minor": 0,
  "metadata": {
    "colab": {
      "provenance": [],
      "authorship_tag": "ABX9TyMtw4qB/WFAlNyQ5Eu7RpZS",
      "include_colab_link": true
    },
    "kernelspec": {
      "name": "python3",
      "display_name": "Python 3"
    },
    "language_info": {
      "name": "python"
    }
  },
  "cells": [
    {
      "cell_type": "markdown",
      "metadata": {
        "id": "view-in-github",
        "colab_type": "text"
      },
      "source": [
        "<a href=\"https://colab.research.google.com/github/AndrewStaines/AIML/blob/main/L1_L2_Regression.ipynb\" target=\"_parent\"><img src=\"https://colab.research.google.com/assets/colab-badge.svg\" alt=\"Open In Colab\"/></a>"
      ]
    },
    {
      "cell_type": "code",
      "execution_count": null,
      "metadata": {
        "id": "vYl5uk3c-NH9"
      },
      "outputs": [],
      "source": [
        "import numpy as np\n",
        "import matplotlib.pyplot as plt"
      ]
    },
    {
      "cell_type": "code",
      "source": [
        "x=np.array([1,2,3,4,5])\n",
        "y=np.array([2.1,3.8,6.5,9.2,11.3])"
      ],
      "metadata": {
        "id": "G0gl4gtA-7_t"
      },
      "execution_count": null,
      "outputs": []
    },
    {
      "cell_type": "code",
      "source": [
        "x_b = np.c_[np.ones((x.shape[0],1)),x]\n",
        "x_b"
      ],
      "metadata": {
        "colab": {
          "base_uri": "https://localhost:8080/"
        },
        "id": "RNEEJ60E_GRx",
        "outputId": "4b27a328-a436-41c7-d9ad-96623c5a9afb"
      },
      "execution_count": null,
      "outputs": [
        {
          "output_type": "execute_result",
          "data": {
            "text/plain": [
              "array([[1., 1.],\n",
              "       [1., 2.],\n",
              "       [1., 3.],\n",
              "       [1., 4.],\n",
              "       [1., 5.]])"
            ]
          },
          "metadata": {},
          "execution_count": 7
        }
      ]
    },
    {
      "cell_type": "code",
      "source": [
        "alpha_ridge=1.0\n",
        "alpha_lasso=0.1\n",
        "num_iterations = 1000\n",
        "learning_rate=0.01"
      ],
      "metadata": {
        "id": "TIhwUIZ__wO-"
      },
      "execution_count": null,
      "outputs": []
    },
    {
      "cell_type": "code",
      "source": [
        "#alpha is the penalty\n",
        "def lasso_reg(x,y,alpha,num_iterations,learning_rate):\n",
        "  m,n=x.shape\n",
        "  theta = np.zeros(n)\n",
        "  for _ in range(num_iterations):\n",
        "    y_pred=x.dot(theta)\n",
        "    gradient=(x.T.dot(y_pred-y)+ alpha * np.sign(theta))/m # np.sign for absolute\n",
        "    theta -= learning_rate * gradient\n",
        "  return theta"
      ],
      "metadata": {
        "id": "Ys5ZEoyTAGmK"
      },
      "execution_count": null,
      "outputs": []
    },
    {
      "cell_type": "code",
      "source": [
        "def ridge_reg(x,y,alpha,num_iterations,learning_rate):\n",
        "  m,n=x.shape\n",
        "  theta = np.zeros(n)\n",
        "  for _ in range(num_iterations):\n",
        "    y_pred=x.dot(theta)\n",
        "    gradient=(x.T.dot(y_pred-y)+ alpha * theta)/m\n",
        "    theta -= learning_rate * gradient\n",
        "  return theta"
      ],
      "metadata": {
        "id": "IH7KrmGVBQz9"
      },
      "execution_count": null,
      "outputs": []
    },
    {
      "cell_type": "code",
      "source": [
        "theta_ridge = ridge_reg(x_b,y,alpha_ridge,num_iterations,learning_rate)\n",
        "theta_lasso = lasso_reg(x_b,y,alpha_lasso,num_iterations,learning_rate)"
      ],
      "metadata": {
        "id": "9RVGq3bQB-if"
      },
      "execution_count": null,
      "outputs": []
    },
    {
      "cell_type": "code",
      "source": [
        "plt.scatter(x,y,label='Data')\n",
        "plt.plot(x,x_b.dot(theta_ridge),label=f'Ridge',color='red')\n",
        "plt.plot(x,x_b.dot(theta_lasso),label=f'Lasso',color='blue')\n",
        "plt.xlabel('X')\n",
        "plt.ylabel('Y')\n",
        "plt.legend()\n",
        "plt.show()"
      ],
      "metadata": {
        "colab": {
          "base_uri": "https://localhost:8080/",
          "height": 449
        },
        "id": "YfswSLCNDgU0",
        "outputId": "d52d9261-73e2-4ef2-b512-b138ec92c6d2"
      },
      "execution_count": null,
      "outputs": [
        {
          "output_type": "display_data",
          "data": {
            "text/plain": [
              "<Figure size 640x480 with 1 Axes>"
            ],
            "image/png": "[encoded data removed]"
          },
          "metadata": {}
        }
      ]
    }
  ]
}