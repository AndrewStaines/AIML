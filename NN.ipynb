{
  "nbformat": 4,
  "nbformat_minor": 0,
  "metadata": {
    "colab": {
      "provenance": [],
      "authorship_tag": "ABX9TyP+n2tjWTARQnTOsSzt+T4D",
      "include_colab_link": true
    },
    "kernelspec": {
      "name": "python3",
      "display_name": "Python 3"
    },
    "language_info": {
      "name": "python"
    }
  },
  "cells": [
    {
      "cell_type": "markdown",
      "metadata": {
        "id": "view-in-github",
        "colab_type": "text"
      },
      "source": [
        "<a href=\"https://colab.research.google.com/github/AndrewStaines/AIML/blob/main/NN.ipynb\" target=\"_parent\"><img src=\"https://colab.research.google.com/assets/colab-badge.svg\" alt=\"Open In Colab\"/></a>"
      ]
    },
    {
      "cell_type": "code",
      "execution_count": null,
      "metadata": {
        "id": "i8_fcGCuRux1"
      },
      "outputs": [],
      "source": [
        "import numpy as np\n",
        "import pandas as pd"
      ]
    },
    {
      "cell_type": "code",
      "source": [
        "x = np.array([[1,0,1,0],[0,1,0,1],[1,1,0,0]])\n",
        "x.shape"
      ],
      "metadata": {
        "colab": {
          "base_uri": "https://localhost:8080/"
        },
        "id": "ctCzqMX6SE0c",
        "outputId": "6a07553e-dc80-4d8f-c439-abef706044ee"
      },
      "execution_count": null,
      "outputs": [
        {
          "output_type": "execute_result",
          "data": {
            "text/plain": [
              "(3, 4)"
            ]
          },
          "metadata": {},
          "execution_count": 71
        }
      ]
    },
    {
      "cell_type": "code",
      "source": [
        "y=np.array([[1],[0],[1]])\n",
        "y"
      ],
      "metadata": {
        "colab": {
          "base_uri": "https://localhost:8080/"
        },
        "id": "gyeOhkZ0Sy0M",
        "outputId": "0c975c15-4b64-4c3e-81a9-f50aefe67001"
      },
      "execution_count": null,
      "outputs": [
        {
          "output_type": "execute_result",
          "data": {
            "text/plain": [
              "array([[1],\n",
              "       [0],\n",
              "       [1]])"
            ]
          },
          "metadata": {},
          "execution_count": 60
        }
      ]
    },
    {
      "cell_type": "code",
      "source": [
        "def sigmoid(x):\n",
        "  return 1/(1+np.exp(-x))"
      ],
      "metadata": {
        "id": "xgB48qgrTRFj"
      },
      "execution_count": null,
      "outputs": []
    },
    {
      "cell_type": "code",
      "source": [
        "def del_sig(x):\n",
        "  return x*(1-x)"
      ],
      "metadata": {
        "id": "s_f2DS3DTjk5"
      },
      "execution_count": null,
      "outputs": []
    },
    {
      "cell_type": "code",
      "source": [
        "epoch = 5000\n",
        "lr=0.1\n",
        "input_n = x.shape[1]\n",
        "hidden_n = 3\n",
        "output_n = 1"
      ],
      "metadata": {
        "id": "TzxbsSYqT3TG"
      },
      "execution_count": null,
      "outputs": []
    },
    {
      "cell_type": "code",
      "source": [
        "wh = np.random.uniform(size=(input_n,hidden_n))\n",
        "bh = np.random.uniform(size=(1,hidden_n))\n",
        "wo = np.random.uniform(size=(hidden_n,output_n))\n",
        "bo = np.random.uniform(size=(1,output_n))"
      ],
      "metadata": {
        "id": "ACNVHPIOUYZ0"
      },
      "execution_count": null,
      "outputs": []
    },
    {
      "cell_type": "code",
      "source": [
        "for i in range(epoch):\n",
        "  #feed_forward\n",
        "  h_i = np.dot(x,wh)\n",
        "  h_i = h_i + bh\n",
        "  h_ac = sigmoid(h_i)\n",
        "  o_l = np.dot(h_ac, wo)\n",
        "  op = sigmoid(o_l)\n",
        "\n",
        "  #back_propagation\n",
        "  E= y - op\n",
        "  s_op = del_sig(op)\n",
        "  s_h = del_sig(h_ac)\n",
        "  d_op = E * s_op\n",
        "  e_h = d_op.dot(wo.T)\n",
        "  d_h = e_h * s_h\n",
        "  wo+= h_ac.T.dot(d_op)*lr\n",
        "  bo+=np.sum(d_op,axis=0,keepdims=True)*lr\n",
        "  wh+=x.T.dot(d_h)*lr\n",
        "  bh+=np.sum(d_h,axis=0,keepdims=True)*lr"
      ],
      "metadata": {
        "id": "VyosrP4MVIEw"
      },
      "execution_count": null,
      "outputs": []
    },
    {
      "cell_type": "code",
      "source": [
        "op"
      ],
      "metadata": {
        "colab": {
          "base_uri": "https://localhost:8080/"
        },
        "id": "JSsEl4WQVQXU",
        "outputId": "a9262313-7e3b-4fa9-ce2a-1fdc5b0d0988"
      },
      "execution_count": null,
      "outputs": [
        {
          "output_type": "execute_result",
          "data": {
            "text/plain": [
              "array([[0.987363  ],\n",
              "       [0.04694436],\n",
              "       [0.96839781]])"
            ]
          },
          "metadata": {},
          "execution_count": 70
        }
      ]
    },
    {
      "cell_type": "code",
      "source": [],
      "metadata": {
        "id": "Dsr1VrUyZR7Y"
      },
      "execution_count": null,
      "outputs": []
    }
  ]
}