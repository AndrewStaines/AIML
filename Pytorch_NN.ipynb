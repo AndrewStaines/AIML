{
  "nbformat": 4,
  "nbformat_minor": 0,
  "metadata": {
    "colab": {
      "provenance": [],
      "authorship_tag": "ABX9TyNWg6Fb8pPtOUPjzItD/WUb",
      "include_colab_link": true
    },
    "kernelspec": {
      "name": "python3",
      "display_name": "Python 3"
    },
    "language_info": {
      "name": "python"
    }
  },
  "cells": [
    {
      "cell_type": "markdown",
      "metadata": {
        "id": "view-in-github",
        "colab_type": "text"
      },
      "source": [
        "<a href=\"https://colab.research.google.com/github/AndrewStaines/AIML/blob/main/Pytorch_NN.ipynb\" target=\"_parent\"><img src=\"https://colab.research.google.com/assets/colab-badge.svg\" alt=\"Open In Colab\"/></a>"
      ]
    },
    {
      "cell_type": "code",
      "execution_count": null,
      "metadata": {
        "id": "HzAPRxnKmkSt"
      },
      "outputs": [],
      "source": [
        "import torch\n",
        "import torchvision.datasets as datasets\n",
        "import torchvision.transforms as transforms\n",
        "import torch.nn as nn\n",
        "import torch.optim as optim"
      ]
    },
    {
      "cell_type": "code",
      "source": [
        "transform = transforms.Compose([transforms.ToTensor(), transforms.Normalize((0.1307,),(0.3081))])"
      ],
      "metadata": {
        "id": "Jc-DVOUjmzAW"
      },
      "execution_count": null,
      "outputs": []
    },
    {
      "cell_type": "code",
      "source": [
        "train = datasets.MNIST('data',train=True,download=True,transform = transform)"
      ],
      "metadata": {
        "colab": {
          "base_uri": "https://localhost:8080/"
        },
        "id": "bfqCLuypo5Fr",
        "outputId": "26234e31-d3d8-4c08-97ab-954a8ea8ac6f"
      },
      "execution_count": null,
      "outputs": [
        {
          "output_type": "stream",
          "name": "stdout",
          "text": [
            "Downloading http://yann.lecun.com/exdb/mnist/train-images-idx3-ubyte.gz\n",
            "Downloading http://yann.lecun.com/exdb/mnist/train-images-idx3-ubyte.gz to data/MNIST/raw/train-images-idx3-ubyte.gz\n"
          ]
        },
        {
          "output_type": "stream",
          "name": "stderr",
          "text": [
            "100%|██████████| 9912422/9912422 [00:00<00:00, 117857346.84it/s]\n"
          ]
        },
        {
          "output_type": "stream",
          "name": "stdout",
          "text": [
            "Extracting data/MNIST/raw/train-images-idx3-ubyte.gz to data/MNIST/raw\n",
            "\n",
            "Downloading http://yann.lecun.com/exdb/mnist/train-labels-idx1-ubyte.gz\n",
            "Downloading http://yann.lecun.com/exdb/mnist/train-labels-idx1-ubyte.gz to data/MNIST/raw/train-labels-idx1-ubyte.gz\n"
          ]
        },
        {
          "output_type": "stream",
          "name": "stderr",
          "text": [
            "100%|██████████| 28881/28881 [00:00<00:00, 22873053.97it/s]"
          ]
        },
        {
          "output_type": "stream",
          "name": "stdout",
          "text": [
            "Extracting data/MNIST/raw/train-labels-idx1-ubyte.gz to data/MNIST/raw\n",
            "\n",
            "Downloading http://yann.lecun.com/exdb/mnist/t10k-images-idx3-ubyte.gz\n",
            "Downloading http://yann.lecun.com/exdb/mnist/t10k-images-idx3-ubyte.gz to data/MNIST/raw/t10k-images-idx3-ubyte.gz\n"
          ]
        },
        {
          "output_type": "stream",
          "name": "stderr",
          "text": [
            "\n",
            "100%|██████████| 1648877/1648877 [00:00<00:00, 30392842.88it/s]\n"
          ]
        },
        {
          "output_type": "stream",
          "name": "stdout",
          "text": [
            "Extracting data/MNIST/raw/t10k-images-idx3-ubyte.gz to data/MNIST/raw\n",
            "\n",
            "Downloading http://yann.lecun.com/exdb/mnist/t10k-labels-idx1-ubyte.gz\n",
            "Downloading http://yann.lecun.com/exdb/mnist/t10k-labels-idx1-ubyte.gz to data/MNIST/raw/t10k-labels-idx1-ubyte.gz\n"
          ]
        },
        {
          "output_type": "stream",
          "name": "stderr",
          "text": [
            "100%|██████████| 4542/4542 [00:00<00:00, 13211185.00it/s]\n"
          ]
        },
        {
          "output_type": "stream",
          "name": "stdout",
          "text": [
            "Extracting data/MNIST/raw/t10k-labels-idx1-ubyte.gz to data/MNIST/raw\n",
            "\n"
          ]
        }
      ]
    },
    {
      "cell_type": "code",
      "source": [
        "train_l = torch.utils.data.DataLoader(train,batch_size=64,shuffle=True)"
      ],
      "metadata": {
        "id": "q-hrgu9YqL73"
      },
      "execution_count": null,
      "outputs": []
    },
    {
      "cell_type": "code",
      "source": [
        "class Neural(nn.Module):\n",
        "  def __init__(self):\n",
        "    super(Neural,self).__init__()\n",
        "    self.fc1=nn.Linear(28*28,128)\n",
        "    self.fc2=nn.Linear(128,64)\n",
        "    self.fc3=nn.Linear(64,32)\n",
        "    self.fc4=nn.Linear(32,16)\n",
        "    self.fc5=nn.Linear(16,10)\n",
        "  def forward(self,x):\n",
        "    x=x.view(-1,28*28)\n",
        "    x=torch.relu(self.fc1(x))\n",
        "    x=torch.relu(self.fc2(x))\n",
        "    x=torch.relu(self.fc3(x))\n",
        "    x=torch.relu(self.fc4(x))\n",
        "    x=self.fc5(x)\n",
        "    return x\n",
        "net=Neural()"
      ],
      "metadata": {
        "id": "TStaMiiAqrnN"
      },
      "execution_count": 24,
      "outputs": []
    },
    {
      "cell_type": "code",
      "source": [
        "criterion=nn.CrossEntropyLoss()\n",
        "optimizer=optim.SGD(net.parameters(),lr=0.01,momentum=0.5)"
      ],
      "metadata": {
        "id": "Yg7MxVsY0q_P"
      },
      "execution_count": 25,
      "outputs": []
    },
    {
      "cell_type": "code",
      "source": [
        "num_epochs=10\n",
        "for epoch in range(num_epochs):\n",
        "  for batch_idx,(data,target) in enumerate (train_l):\n",
        "    optimizer.zero_grad()\n",
        "    output=net(data)\n",
        "    loss =criterion(output,target)\n",
        "    loss.backward()\n",
        "    optimizer.step()\n",
        "    if batch_idx % 100==0:\n",
        "      print('Train Epoch: {} [{}/{} ({:.0f}%)]\\tLoss: {:.6f}'.format(\n",
        "                epoch, batch_idx * len(data), len(train_l.dataset),\n",
        "                100. * batch_idx / len(train_l), loss.item()))"
      ],
      "metadata": {
        "colab": {
          "base_uri": "https://localhost:8080/"
        },
        "id": "vuiQhsmE003M",
        "outputId": "911c28bb-bc62-4c2c-f544-1dc8acf844f5"
      },
      "execution_count": 26,
      "outputs": [
        {
          "output_type": "stream",
          "name": "stdout",
          "text": [
            "Train Epoch: 0 [0/60000 (0%)]\tLoss: 2.303849\n",
            "Train Epoch: 0 [6400/60000 (11%)]\tLoss: 2.302140\n",
            "Train Epoch: 0 [12800/60000 (21%)]\tLoss: 2.282323\n",
            "Train Epoch: 0 [19200/60000 (32%)]\tLoss: 2.279356\n",
            "Train Epoch: 0 [25600/60000 (43%)]\tLoss: 2.190904\n",
            "Train Epoch: 0 [32000/60000 (53%)]\tLoss: 2.070619\n",
            "Train Epoch: 0 [38400/60000 (64%)]\tLoss: 1.630823\n",
            "Train Epoch: 0 [44800/60000 (75%)]\tLoss: 1.107928\n",
            "Train Epoch: 0 [51200/60000 (85%)]\tLoss: 0.675128\n",
            "Train Epoch: 0 [57600/60000 (96%)]\tLoss: 0.663558\n",
            "Train Epoch: 1 [0/60000 (0%)]\tLoss: 0.563928\n",
            "Train Epoch: 1 [6400/60000 (11%)]\tLoss: 0.430522\n",
            "Train Epoch: 1 [12800/60000 (21%)]\tLoss: 0.475317\n",
            "Train Epoch: 1 [19200/60000 (32%)]\tLoss: 0.288277\n",
            "Train Epoch: 1 [25600/60000 (43%)]\tLoss: 0.433149\n",
            "Train Epoch: 1 [32000/60000 (53%)]\tLoss: 0.400306\n",
            "Train Epoch: 1 [38400/60000 (64%)]\tLoss: 0.400642\n",
            "Train Epoch: 1 [44800/60000 (75%)]\tLoss: 0.334680\n",
            "Train Epoch: 1 [51200/60000 (85%)]\tLoss: 0.206176\n",
            "Train Epoch: 1 [57600/60000 (96%)]\tLoss: 0.180766\n",
            "Train Epoch: 2 [0/60000 (0%)]\tLoss: 0.191229\n",
            "Train Epoch: 2 [6400/60000 (11%)]\tLoss: 0.318660\n",
            "Train Epoch: 2 [12800/60000 (21%)]\tLoss: 0.190338\n",
            "Train Epoch: 2 [19200/60000 (32%)]\tLoss: 0.113999\n",
            "Train Epoch: 2 [25600/60000 (43%)]\tLoss: 0.183228\n",
            "Train Epoch: 2 [32000/60000 (53%)]\tLoss: 0.289466\n",
            "Train Epoch: 2 [38400/60000 (64%)]\tLoss: 0.197896\n",
            "Train Epoch: 2 [44800/60000 (75%)]\tLoss: 0.088768\n",
            "Train Epoch: 2 [51200/60000 (85%)]\tLoss: 0.058578\n",
            "Train Epoch: 2 [57600/60000 (96%)]\tLoss: 0.139866\n",
            "Train Epoch: 3 [0/60000 (0%)]\tLoss: 0.085993\n",
            "Train Epoch: 3 [6400/60000 (11%)]\tLoss: 0.234640\n",
            "Train Epoch: 3 [12800/60000 (21%)]\tLoss: 0.137897\n",
            "Train Epoch: 3 [19200/60000 (32%)]\tLoss: 0.134083\n",
            "Train Epoch: 3 [25600/60000 (43%)]\tLoss: 0.130444\n",
            "Train Epoch: 3 [32000/60000 (53%)]\tLoss: 0.243556\n",
            "Train Epoch: 3 [38400/60000 (64%)]\tLoss: 0.278923\n",
            "Train Epoch: 3 [44800/60000 (75%)]\tLoss: 0.070826\n",
            "Train Epoch: 3 [51200/60000 (85%)]\tLoss: 0.112904\n",
            "Train Epoch: 3 [57600/60000 (96%)]\tLoss: 0.151428\n",
            "Train Epoch: 4 [0/60000 (0%)]\tLoss: 0.293712\n",
            "Train Epoch: 4 [6400/60000 (11%)]\tLoss: 0.113072\n",
            "Train Epoch: 4 [12800/60000 (21%)]\tLoss: 0.164427\n",
            "Train Epoch: 4 [19200/60000 (32%)]\tLoss: 0.065528\n",
            "Train Epoch: 4 [25600/60000 (43%)]\tLoss: 0.088490\n",
            "Train Epoch: 4 [32000/60000 (53%)]\tLoss: 0.057285\n",
            "Train Epoch: 4 [38400/60000 (64%)]\tLoss: 0.460990\n",
            "Train Epoch: 4 [44800/60000 (75%)]\tLoss: 0.101705\n",
            "Train Epoch: 4 [51200/60000 (85%)]\tLoss: 0.233080\n",
            "Train Epoch: 4 [57600/60000 (96%)]\tLoss: 0.098240\n",
            "Train Epoch: 5 [0/60000 (0%)]\tLoss: 0.039060\n",
            "Train Epoch: 5 [6400/60000 (11%)]\tLoss: 0.133302\n",
            "Train Epoch: 5 [12800/60000 (21%)]\tLoss: 0.108755\n",
            "Train Epoch: 5 [19200/60000 (32%)]\tLoss: 0.070840\n",
            "Train Epoch: 5 [25600/60000 (43%)]\tLoss: 0.050005\n",
            "Train Epoch: 5 [32000/60000 (53%)]\tLoss: 0.120598\n",
            "Train Epoch: 5 [38400/60000 (64%)]\tLoss: 0.053107\n",
            "Train Epoch: 5 [44800/60000 (75%)]\tLoss: 0.092671\n",
            "Train Epoch: 5 [51200/60000 (85%)]\tLoss: 0.069959\n",
            "Train Epoch: 5 [57600/60000 (96%)]\tLoss: 0.071620\n",
            "Train Epoch: 6 [0/60000 (0%)]\tLoss: 0.057775\n",
            "Train Epoch: 6 [6400/60000 (11%)]\tLoss: 0.237411\n",
            "Train Epoch: 6 [12800/60000 (21%)]\tLoss: 0.066098\n",
            "Train Epoch: 6 [19200/60000 (32%)]\tLoss: 0.056890\n",
            "Train Epoch: 6 [25600/60000 (43%)]\tLoss: 0.128922\n",
            "Train Epoch: 6 [32000/60000 (53%)]\tLoss: 0.079826\n",
            "Train Epoch: 6 [38400/60000 (64%)]\tLoss: 0.097436\n",
            "Train Epoch: 6 [44800/60000 (75%)]\tLoss: 0.025177\n",
            "Train Epoch: 6 [51200/60000 (85%)]\tLoss: 0.040222\n",
            "Train Epoch: 6 [57600/60000 (96%)]\tLoss: 0.097159\n",
            "Train Epoch: 7 [0/60000 (0%)]\tLoss: 0.337420\n",
            "Train Epoch: 7 [6400/60000 (11%)]\tLoss: 0.042405\n",
            "Train Epoch: 7 [12800/60000 (21%)]\tLoss: 0.104186\n",
            "Train Epoch: 7 [19200/60000 (32%)]\tLoss: 0.129114\n",
            "Train Epoch: 7 [25600/60000 (43%)]\tLoss: 0.158360\n",
            "Train Epoch: 7 [32000/60000 (53%)]\tLoss: 0.055997\n",
            "Train Epoch: 7 [38400/60000 (64%)]\tLoss: 0.046407\n",
            "Train Epoch: 7 [44800/60000 (75%)]\tLoss: 0.019177\n",
            "Train Epoch: 7 [51200/60000 (85%)]\tLoss: 0.046575\n",
            "Train Epoch: 7 [57600/60000 (96%)]\tLoss: 0.011969\n",
            "Train Epoch: 8 [0/60000 (0%)]\tLoss: 0.025190\n",
            "Train Epoch: 8 [6400/60000 (11%)]\tLoss: 0.030680\n",
            "Train Epoch: 8 [12800/60000 (21%)]\tLoss: 0.086917\n",
            "Train Epoch: 8 [19200/60000 (32%)]\tLoss: 0.107492\n",
            "Train Epoch: 8 [25600/60000 (43%)]\tLoss: 0.098847\n",
            "Train Epoch: 8 [32000/60000 (53%)]\tLoss: 0.023304\n",
            "Train Epoch: 8 [38400/60000 (64%)]\tLoss: 0.084497\n",
            "Train Epoch: 8 [44800/60000 (75%)]\tLoss: 0.020882\n",
            "Train Epoch: 8 [51200/60000 (85%)]\tLoss: 0.096228\n",
            "Train Epoch: 8 [57600/60000 (96%)]\tLoss: 0.058948\n",
            "Train Epoch: 9 [0/60000 (0%)]\tLoss: 0.034449\n",
            "Train Epoch: 9 [6400/60000 (11%)]\tLoss: 0.146291\n",
            "Train Epoch: 9 [12800/60000 (21%)]\tLoss: 0.031710\n",
            "Train Epoch: 9 [19200/60000 (32%)]\tLoss: 0.081216\n",
            "Train Epoch: 9 [25600/60000 (43%)]\tLoss: 0.050620\n",
            "Train Epoch: 9 [32000/60000 (53%)]\tLoss: 0.057786\n",
            "Train Epoch: 9 [38400/60000 (64%)]\tLoss: 0.042969\n",
            "Train Epoch: 9 [44800/60000 (75%)]\tLoss: 0.105008\n",
            "Train Epoch: 9 [51200/60000 (85%)]\tLoss: 0.017737\n",
            "Train Epoch: 9 [57600/60000 (96%)]\tLoss: 0.033810\n"
          ]
        }
      ]
    },
    {
      "cell_type": "code",
      "source": [
        "test_dataset=datasets.MNIST('data',train=False,download=True,transform=transform)\n",
        "test_loader=torch.utils.data.DataLoader(test_dataset,batch_size=1000,shuffle=True)\n",
        "correct=0\n",
        "total=0\n",
        "with torch.no_grad():\n",
        "  output=net(data)\n",
        "  _,predicted=torch.max(output.data,1)\n",
        "  total+=target.size(0)\n",
        "  correct+=(predicted==target).sum().item()"
      ],
      "metadata": {
        "id": "SsNrbROs12ov"
      },
      "execution_count": 27,
      "outputs": []
    },
    {
      "cell_type": "code",
      "source": [
        "print('Accuracy of the network on the 10000 test images: %d %%' % (\n",
        "    100 * correct / total))"
      ],
      "metadata": {
        "colab": {
          "base_uri": "https://localhost:8080/"
        },
        "id": "0pI0kwsA2pif",
        "outputId": "b304f52f-d108-49c8-dcf3-7a938960364d"
      },
      "execution_count": 28,
      "outputs": [
        {
          "output_type": "stream",
          "name": "stdout",
          "text": [
            "Accuracy of the network on the 10000 test images: 100 %\n"
          ]
        }
      ]
    }
  ]
}