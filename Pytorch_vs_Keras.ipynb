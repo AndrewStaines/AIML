{
  "nbformat": 4,
  "nbformat_minor": 0,
  "metadata": {
    "colab": {
      "provenance": [],
      "authorship_tag": "ABX9TyOaHbwilAW62I5YHLwfVYUX",
      "include_colab_link": true
    },
    "kernelspec": {
      "name": "python3",
      "display_name": "Python 3"
    },
    "language_info": {
      "name": "python"
    },
    "accelerator": "TPU"
  },
  "cells": [
    {
      "cell_type": "markdown",
      "metadata": {
        "id": "view-in-github",
        "colab_type": "text"
      },
      "source": [
        "<a href=\"https://colab.research.google.com/github/AndrewStaines/AIML/blob/main/Pytorch_vs_Keras.ipynb\" target=\"_parent\"><img src=\"https://colab.research.google.com/assets/colab-badge.svg\" alt=\"Open In Colab\"/></a>"
      ]
    },
    {
      "cell_type": "code",
      "execution_count": null,
      "metadata": {
        "id": "y90ogydZ0eTJ"
      },
      "outputs": [],
      "source": [
        "import torch\n",
        "import torch.nn as nn\n",
        "import torch.optim as optim\n",
        "import torchvision.datasets as datasets\n",
        "import torchvision.transforms as transforms\n",
        "import torchvision.datasets as MNIST\n",
        "import tensorflow as tf\n",
        "\n",
        "from torch.utils.data import DataLoader\n",
        "from tensorflow.keras import layers,models\n",
        "from tensorflow.keras.datasets import mnist\n",
        "from tensorflow.keras.utils import to_categorical"
      ]
    },
    {
      "cell_type": "code",
      "source": [
        "# Load and preprocess the MNIST dataset using PyTorch\n",
        "transform = transforms.Compose([transforms.ToTensor(), transforms.Normalize((0.5,), (0.5,))])\n",
        "train_dataset = datasets.MNIST(root='./data', train=True, download=True, transform=transform)\n",
        "test_dataset = datasets.MNIST(root='./data', train=False, download=True, transform=transform)"
      ],
      "metadata": {
        "id": "3UZ7kNl705i7"
      },
      "execution_count": null,
      "outputs": []
    },
    {
      "cell_type": "code",
      "source": [
        "train_loader = DataLoader(dataset=train_dataset, batch_size=64, shuffle=True)\n",
        "test_loader = DataLoader(dataset=test_dataset, batch_size=64, shuffle=False)"
      ],
      "metadata": {
        "id": "eRhrhkjL1pKW"
      },
      "execution_count": null,
      "outputs": []
    },
    {
      "cell_type": "code",
      "source": [
        "(train_images, train_labels), (test_images, test_labels) = mnist.load_data()"
      ],
      "metadata": {
        "id": "qrVOEZOy2NlQ"
      },
      "execution_count": null,
      "outputs": []
    },
    {
      "cell_type": "code",
      "source": [
        "train_images = train_images.reshape((60000, 28, 28, 1)).astype('float32') / 255\n",
        "test_images = test_images.reshape((10000, 28, 28, 1)).astype('float32') / 255"
      ],
      "metadata": {
        "id": "--LiBnUs2OAC"
      },
      "execution_count": null,
      "outputs": []
    },
    {
      "cell_type": "code",
      "source": [
        "train_labels = to_categorical(train_labels)\n",
        "test_labels = to_categorical(test_labels)"
      ],
      "metadata": {
        "id": "yzZVi4Ww2cik"
      },
      "execution_count": null,
      "outputs": []
    },
    {
      "cell_type": "code",
      "source": [
        "class Net(nn.Module):\n",
        "  def __init__(self):\n",
        "    super(Net,self).__init__()\n",
        "    self.fc1=nn.Linear(28*28,128)\n",
        "    self.fc2=nn.Linear(128,64)\n",
        "    self.fc3=nn.Linear(64,32)\n",
        "    self.fc4=nn.Linear(32,16)\n",
        "    self.fc5=nn.Linear(16,8)\n",
        "    self.fc6=nn.Linear(8,10)\n",
        "  def forward(self,x):\n",
        "    x=x.view(-1,28*28)\n",
        "    x=torch.relu(self.fc1(x))\n",
        "    x=torch.relu(self.fc2(x))\n",
        "    x=torch.relu(self.fc3(x))\n",
        "    x=torch.relu(self.fc4(x))\n",
        "    x=torch.relu(self.fc5(x))\n",
        "    x=self.fc6(x)\n",
        "    return x"
      ],
      "metadata": {
        "id": "KsSp-kfd2iCT"
      },
      "execution_count": null,
      "outputs": []
    },
    {
      "cell_type": "code",
      "source": [
        "model_pt = Net()\n",
        "criterion = nn.CrossEntropyLoss()\n",
        "optimizer_pt = optim.Adam(model_pt.parameters(), lr=0.001)"
      ],
      "metadata": {
        "id": "4J6djHQI2y6U"
      },
      "execution_count": null,
      "outputs": []
    },
    {
      "cell_type": "code",
      "source": [
        "import time\n",
        "start_time_tf = time.time()\n",
        "model_tf = models.Sequential()\n",
        "model_tf.add(layers.Flatten(input_shape=(28, 28, 1)))\n",
        "model_tf.add(layers.Dense(128, activation='relu'))\n",
        "model_tf.add(layers.Dense(10, activation='softmax'))"
      ],
      "metadata": {
        "id": "8NOrLGYx3FJ_"
      },
      "execution_count": null,
      "outputs": []
    },
    {
      "cell_type": "code",
      "source": [
        "model_tf.compile(optimizer='adam',\n",
        "                 loss='categorical_crossentropy',\n",
        "                 metrics=['accuracy'])"
      ],
      "metadata": {
        "id": "XeU-1d0N3dcw"
      },
      "execution_count": null,
      "outputs": []
    },
    {
      "cell_type": "code",
      "source": [
        "model_tf.fit(train_images, train_labels, epochs=5, batch_size=64, validation_split=0.2)\n",
        "end_time_tf = time.time()"
      ],
      "metadata": {
        "colab": {
          "base_uri": "https://localhost:8080/"
        },
        "id": "nEJ-HoqE3g9T",
        "outputId": "686760eb-8283-45d2-81ec-3c4dbedd5ecd"
      },
      "execution_count": null,
      "outputs": [
        {
          "output_type": "stream",
          "name": "stdout",
          "text": [
            "Epoch 1/5\n",
            "750/750 [==============================] - 6s 8ms/step - loss: 0.3265 - accuracy: 0.9096 - val_loss: 0.1790 - val_accuracy: 0.9485\n",
            "Epoch 2/5\n",
            "750/750 [==============================] - 4s 5ms/step - loss: 0.1534 - accuracy: 0.9556 - val_loss: 0.1343 - val_accuracy: 0.9626\n",
            "Epoch 3/5\n",
            "750/750 [==============================] - 4s 6ms/step - loss: 0.1078 - accuracy: 0.9688 - val_loss: 0.1183 - val_accuracy: 0.9644\n",
            "Epoch 4/5\n",
            "750/750 [==============================] - 6s 7ms/step - loss: 0.0825 - accuracy: 0.9758 - val_loss: 0.1118 - val_accuracy: 0.9673\n",
            "Epoch 5/5\n",
            "750/750 [==============================] - 4s 5ms/step - loss: 0.0643 - accuracy: 0.9814 - val_loss: 0.0962 - val_accuracy: 0.9713\n"
          ]
        }
      ]
    },
    {
      "cell_type": "code",
      "source": [
        "print(f\"TensorFlow Training Time: {end_time_tf - start_time_tf} seconds\")"
      ],
      "metadata": {
        "colab": {
          "base_uri": "https://localhost:8080/"
        },
        "id": "vYORYrtk3haa",
        "outputId": "bbc778c9-d4dd-4b91-c426-476c150e46c7"
      },
      "execution_count": null,
      "outputs": [
        {
          "output_type": "stream",
          "name": "stdout",
          "text": [
            "TensorFlow Training Time: 42.0209105014801 seconds\n"
          ]
        }
      ]
    },
    {
      "cell_type": "code",
      "source": [
        "start_time_pt = time.time()\n",
        "for epoch in range(5):\n",
        "    for images, labels in train_loader:\n",
        "        optimizer_pt.zero_grad()\n",
        "        outputs = model_pt(images.view(-1, 28 * 28))\n",
        "        loss = criterion(outputs, labels)\n",
        "        loss.backward()\n",
        "        optimizer_pt.step()\n",
        "end_time_tf = time.time()\n",
        "print(f\"PyTorch Training Time: {end_time_tf - start_time_tf} seconds\")"
      ],
      "metadata": {
        "colab": {
          "base_uri": "https://localhost:8080/"
        },
        "id": "fCMm47QZ3quI",
        "outputId": "1a350b89-8b4f-46de-c9ff-395c94eaccd4"
      },
      "execution_count": null,
      "outputs": [
        {
          "output_type": "stream",
          "name": "stdout",
          "text": [
            "PyTorch Training Time: 144.44703602790833 seconds\n"
          ]
        }
      ]
    },
    {
      "cell_type": "code",
      "source": [
        "# Evaluation using TensorFlow\n",
        "test_loss_tf, test_acc_tf = model_tf.evaluate(test_images, test_labels)\n",
        "print(f\"TensorFlow Test Accuracy: {test_acc_tf}\")"
      ],
      "metadata": {
        "id": "HLhJDwoX3uNi",
        "colab": {
          "base_uri": "https://localhost:8080/"
        },
        "outputId": "2c1d5e76-36f1-4500-dbc8-35f0c6a59d8b"
      },
      "execution_count": null,
      "outputs": [
        {
          "output_type": "stream",
          "name": "stdout",
          "text": [
            "313/313 [==============================] - 1s 2ms/step - loss: 0.0899 - accuracy: 0.9711\n",
            "TensorFlow Test Accuracy: 0.9710999727249146\n"
          ]
        }
      ]
    },
    {
      "cell_type": "code",
      "source": [
        "# Evaluation using PyTorch\n",
        "correct = 0\n",
        "total = 0\n",
        "with torch.no_grad():\n",
        "    for images, labels in test_loader:\n",
        "        outputs = model_pt(images.view(-1, 28 * 28))\n",
        "        _, predicted = torch.max(outputs.data, 1)\n",
        "        total += labels.size(0)\n",
        "        correct += (predicted == labels).sum().item()\n",
        "\n",
        "accuracy_pt = correct / total\n",
        "print(f\"PyTorch Test Accuracy: {accuracy_pt}\")"
      ],
      "metadata": {
        "id": "-YfP5O013_zw",
        "colab": {
          "base_uri": "https://localhost:8080/"
        },
        "outputId": "a2cad214-3339-4a36-e356-68c1e715e1c6"
      },
      "execution_count": null,
      "outputs": [
        {
          "output_type": "stream",
          "name": "stdout",
          "text": [
            "PyTorch Test Accuracy: 0.9593\n"
          ]
        }
      ]
    }
  ]
}