{
  "nbformat": 4,
  "nbformat_minor": 0,
  "metadata": {
    "colab": {
      "provenance": [],
      "authorship_tag": "ABX9TyNN91JNM2ZrrW+9/is46+CG",
      "include_colab_link": true
    },
    "kernelspec": {
      "name": "python3",
      "display_name": "Python 3"
    },
    "language_info": {
      "name": "python"
    }
  },
  "cells": [
    {
      "cell_type": "markdown",
      "metadata": {
        "id": "view-in-github",
        "colab_type": "text"
      },
      "source": [
        "<a href=\"https://colab.research.google.com/github/AndrewStaines/AIML/blob/main/XG_Boost_Regression.ipynb\" target=\"_parent\"><img src=\"https://colab.research.google.com/assets/colab-badge.svg\" alt=\"Open In Colab\"/></a>"
      ]
    },
    {
      "cell_type": "code",
      "execution_count": null,
      "metadata": {
        "id": "97rxP-m8_U2L"
      },
      "outputs": [],
      "source": [
        "import numpy as np\n",
        "import pandas as pd"
      ]
    },
    {
      "cell_type": "code",
      "source": [
        "train = pd.read_csv(r'/content/train.csv')\n",
        "test = pd.read_csv(r'/content/test.csv')"
      ],
      "metadata": {
        "id": "GYz5BHS2AFwt"
      },
      "execution_count": null,
      "outputs": []
    },
    {
      "cell_type": "code",
      "source": [
        "train , test"
      ],
      "metadata": {
        "colab": {
          "base_uri": "https://localhost:8080/"
        },
        "id": "1Z8xP0a5Af9j",
        "outputId": "cb4e3036-728b-4f17-e21e-2629b51b1e00"
      },
      "execution_count": null,
      "outputs": [
        {
          "output_type": "execute_result",
          "data": {
            "text/plain": [
              "(        Id  MSSubClass MSZoning  LotFrontage  LotArea Street Alley LotShape  \\\n",
              " 0        1          60       RL         65.0     8450   Pave   NaN      Reg   \n",
              " 1        2          20       RL         80.0     9600   Pave   NaN      Reg   \n",
              " 2        3          60       RL         68.0    11250   Pave   NaN      IR1   \n",
              " 3        4          70       RL         60.0     9550   Pave   NaN      IR1   \n",
              " 4        5          60       RL         84.0    14260   Pave   NaN      IR1   \n",
              " ...    ...         ...      ...          ...      ...    ...   ...      ...   \n",
              " 1455  1456          60       RL         62.0     7917   Pave   NaN      Reg   \n",
              " 1456  1457          20       RL         85.0    13175   Pave   NaN      Reg   \n",
              " 1457  1458          70       RL         66.0     9042   Pave   NaN      Reg   \n",
              " 1458  1459          20       RL         68.0     9717   Pave   NaN      Reg   \n",
              " 1459  1460          20       RL         75.0     9937   Pave   NaN      Reg   \n",
              " \n",
              "      LandContour Utilities  ... PoolArea PoolQC  Fence MiscFeature MiscVal  \\\n",
              " 0            Lvl    AllPub  ...        0    NaN    NaN         NaN       0   \n",
              " 1            Lvl    AllPub  ...        0    NaN    NaN         NaN       0   \n",
              " 2            Lvl    AllPub  ...        0    NaN    NaN         NaN       0   \n",
              " 3            Lvl    AllPub  ...        0    NaN    NaN         NaN       0   \n",
              " 4            Lvl    AllPub  ...        0    NaN    NaN         NaN       0   \n",
              " ...          ...       ...  ...      ...    ...    ...         ...     ...   \n",
              " 1455         Lvl    AllPub  ...        0    NaN    NaN         NaN       0   \n",
              " 1456         Lvl    AllPub  ...        0    NaN  MnPrv         NaN       0   \n",
              " 1457         Lvl    AllPub  ...        0    NaN  GdPrv        Shed    2500   \n",
              " 1458         Lvl    AllPub  ...        0    NaN    NaN         NaN       0   \n",
              " 1459         Lvl    AllPub  ...        0    NaN    NaN         NaN       0   \n",
              " \n",
              "      MoSold YrSold  SaleType  SaleCondition  SalePrice  \n",
              " 0         2   2008        WD         Normal     208500  \n",
              " 1         5   2007        WD         Normal     181500  \n",
              " 2         9   2008        WD         Normal     223500  \n",
              " 3         2   2006        WD        Abnorml     140000  \n",
              " 4        12   2008        WD         Normal     250000  \n",
              " ...     ...    ...       ...            ...        ...  \n",
              " 1455      8   2007        WD         Normal     175000  \n",
              " 1456      2   2010        WD         Normal     210000  \n",
              " 1457      5   2010        WD         Normal     266500  \n",
              " 1458      4   2010        WD         Normal     142125  \n",
              " 1459      6   2008        WD         Normal     147500  \n",
              " \n",
              " [1460 rows x 81 columns],\n",
              "         Id  MSSubClass MSZoning  LotFrontage  LotArea Street Alley LotShape  \\\n",
              " 0     1461          20       RH         80.0    11622   Pave   NaN      Reg   \n",
              " 1     1462          20       RL         81.0    14267   Pave   NaN      IR1   \n",
              " 2     1463          60       RL         74.0    13830   Pave   NaN      IR1   \n",
              " 3     1464          60       RL         78.0     9978   Pave   NaN      IR1   \n",
              " 4     1465         120       RL         43.0     5005   Pave   NaN      IR1   \n",
              " ...    ...         ...      ...          ...      ...    ...   ...      ...   \n",
              " 1454  2915         160       RM         21.0     1936   Pave   NaN      Reg   \n",
              " 1455  2916         160       RM         21.0     1894   Pave   NaN      Reg   \n",
              " 1456  2917          20       RL        160.0    20000   Pave   NaN      Reg   \n",
              " 1457  2918          85       RL         62.0    10441   Pave   NaN      Reg   \n",
              " 1458  2919          60       RL         74.0     9627   Pave   NaN      Reg   \n",
              " \n",
              "      LandContour Utilities  ... ScreenPorch PoolArea PoolQC  Fence  \\\n",
              " 0            Lvl    AllPub  ...         120        0    NaN  MnPrv   \n",
              " 1            Lvl    AllPub  ...           0        0    NaN    NaN   \n",
              " 2            Lvl    AllPub  ...           0        0    NaN  MnPrv   \n",
              " 3            Lvl    AllPub  ...           0        0    NaN    NaN   \n",
              " 4            HLS    AllPub  ...         144        0    NaN    NaN   \n",
              " ...          ...       ...  ...         ...      ...    ...    ...   \n",
              " 1454         Lvl    AllPub  ...           0        0    NaN    NaN   \n",
              " 1455         Lvl    AllPub  ...           0        0    NaN    NaN   \n",
              " 1456         Lvl    AllPub  ...           0        0    NaN    NaN   \n",
              " 1457         Lvl    AllPub  ...           0        0    NaN  MnPrv   \n",
              " 1458         Lvl    AllPub  ...           0        0    NaN    NaN   \n",
              " \n",
              "      MiscFeature MiscVal MoSold  YrSold  SaleType  SaleCondition  \n",
              " 0            NaN       0      6    2010        WD         Normal  \n",
              " 1           Gar2   12500      6    2010        WD         Normal  \n",
              " 2            NaN       0      3    2010        WD         Normal  \n",
              " 3            NaN       0      6    2010        WD         Normal  \n",
              " 4            NaN       0      1    2010        WD         Normal  \n",
              " ...          ...     ...    ...     ...       ...            ...  \n",
              " 1454         NaN       0      6    2006        WD         Normal  \n",
              " 1455         NaN       0      4    2006        WD        Abnorml  \n",
              " 1456         NaN       0      9    2006        WD        Abnorml  \n",
              " 1457        Shed     700      7    2006        WD         Normal  \n",
              " 1458         NaN       0     11    2006        WD         Normal  \n",
              " \n",
              " [1459 rows x 80 columns])"
            ]
          },
          "metadata": {},
          "execution_count": 217
        }
      ]
    },
    {
      "cell_type": "code",
      "source": [
        "train.info()"
      ],
      "metadata": {
        "colab": {
          "base_uri": "https://localhost:8080/"
        },
        "id": "1iOivcWJAV4z",
        "outputId": "a69ba989-6d97-49d8-f7cb-09e7211ffba0"
      },
      "execution_count": null,
      "outputs": [
        {
          "output_type": "stream",
          "name": "stdout",
          "text": [
            "<class 'pandas.core.frame.DataFrame'>\n",
            "RangeIndex: 1460 entries, 0 to 1459\n",
            "Data columns (total 81 columns):\n",
            " #   Column         Non-Null Count  Dtype  \n",
            "---  ------         --------------  -----  \n",
            " 0   Id             1460 non-null   int64  \n",
            " 1   MSSubClass     1460 non-null   int64  \n",
            " 2   MSZoning       1460 non-null   object \n",
            " 3   LotFrontage    1201 non-null   float64\n",
            " 4   LotArea        1460 non-null   int64  \n",
            " 5   Street         1460 non-null   object \n",
            " 6   Alley          91 non-null     object \n",
            " 7   LotShape       1460 non-null   object \n",
            " 8   LandContour    1460 non-null   object \n",
            " 9   Utilities      1460 non-null   object \n",
            " 10  LotConfig      1460 non-null   object \n",
            " 11  LandSlope      1460 non-null   object \n",
            " 12  Neighborhood   1460 non-null   object \n",
            " 13  Condition1     1460 non-null   object \n",
            " 14  Condition2     1460 non-null   object \n",
            " 15  BldgType       1460 non-null   object \n",
            " 16  HouseStyle     1460 non-null   object \n",
            " 17  OverallQual    1460 non-null   int64  \n",
            " 18  OverallCond    1460 non-null   int64  \n",
            " 19  YearBuilt      1460 non-null   int64  \n",
            " 20  YearRemodAdd   1460 non-null   int64  \n",
            " 21  RoofStyle      1460 non-null   object \n",
            " 22  RoofMatl       1460 non-null   object \n",
            " 23  Exterior1st    1460 non-null   object \n",
            " 24  Exterior2nd    1460 non-null   object \n",
            " 25  MasVnrType     1452 non-null   object \n",
            " 26  MasVnrArea     1452 non-null   float64\n",
            " 27  ExterQual      1460 non-null   object \n",
            " 28  ExterCond      1460 non-null   object \n",
            " 29  Foundation     1460 non-null   object \n",
            " 30  BsmtQual       1423 non-null   object \n",
            " 31  BsmtCond       1423 non-null   object \n",
            " 32  BsmtExposure   1422 non-null   object \n",
            " 33  BsmtFinType1   1423 non-null   object \n",
            " 34  BsmtFinSF1     1460 non-null   int64  \n",
            " 35  BsmtFinType2   1422 non-null   object \n",
            " 36  BsmtFinSF2     1460 non-null   int64  \n",
            " 37  BsmtUnfSF      1460 non-null   int64  \n",
            " 38  TotalBsmtSF    1460 non-null   int64  \n",
            " 39  Heating        1460 non-null   object \n",
            " 40  HeatingQC      1460 non-null   object \n",
            " 41  CentralAir     1460 non-null   object \n",
            " 42  Electrical     1459 non-null   object \n",
            " 43  1stFlrSF       1460 non-null   int64  \n",
            " 44  2ndFlrSF       1460 non-null   int64  \n",
            " 45  LowQualFinSF   1460 non-null   int64  \n",
            " 46  GrLivArea      1460 non-null   int64  \n",
            " 47  BsmtFullBath   1460 non-null   int64  \n",
            " 48  BsmtHalfBath   1460 non-null   int64  \n",
            " 49  FullBath       1460 non-null   int64  \n",
            " 50  HalfBath       1460 non-null   int64  \n",
            " 51  BedroomAbvGr   1460 non-null   int64  \n",
            " 52  KitchenAbvGr   1460 non-null   int64  \n",
            " 53  KitchenQual    1460 non-null   object \n",
            " 54  TotRmsAbvGrd   1460 non-null   int64  \n",
            " 55  Functional     1460 non-null   object \n",
            " 56  Fireplaces     1460 non-null   int64  \n",
            " 57  FireplaceQu    770 non-null    object \n",
            " 58  GarageType     1379 non-null   object \n",
            " 59  GarageYrBlt    1379 non-null   float64\n",
            " 60  GarageFinish   1379 non-null   object \n",
            " 61  GarageCars     1460 non-null   int64  \n",
            " 62  GarageArea     1460 non-null   int64  \n",
            " 63  GarageQual     1379 non-null   object \n",
            " 64  GarageCond     1379 non-null   object \n",
            " 65  PavedDrive     1460 non-null   object \n",
            " 66  WoodDeckSF     1460 non-null   int64  \n",
            " 67  OpenPorchSF    1460 non-null   int64  \n",
            " 68  EnclosedPorch  1460 non-null   int64  \n",
            " 69  3SsnPorch      1460 non-null   int64  \n",
            " 70  ScreenPorch    1460 non-null   int64  \n",
            " 71  PoolArea       1460 non-null   int64  \n",
            " 72  PoolQC         7 non-null      object \n",
            " 73  Fence          281 non-null    object \n",
            " 74  MiscFeature    54 non-null     object \n",
            " 75  MiscVal        1460 non-null   int64  \n",
            " 76  MoSold         1460 non-null   int64  \n",
            " 77  YrSold         1460 non-null   int64  \n",
            " 78  SaleType       1460 non-null   object \n",
            " 79  SaleCondition  1460 non-null   object \n",
            " 80  SalePrice      1460 non-null   int64  \n",
            "dtypes: float64(3), int64(35), object(43)\n",
            "memory usage: 924.0+ KB\n"
          ]
        }
      ]
    },
    {
      "cell_type": "code",
      "source": [
        "train.LotFrontage.replace(np.nan,train.LotFrontage.mean(),inplace=True)"
      ],
      "metadata": {
        "id": "nuY85A3CA2K-"
      },
      "execution_count": null,
      "outputs": []
    },
    {
      "cell_type": "code",
      "source": [
        "train.MasVnrType.replace(np.nan,'None',inplace=True)\n",
        "train.MasVnrType.unique()"
      ],
      "metadata": {
        "colab": {
          "base_uri": "https://localhost:8080/"
        },
        "id": "jzkbbBk0BFmT",
        "outputId": "6bb98a42-8896-4b43-a1a9-db65814de816"
      },
      "execution_count": null,
      "outputs": [
        {
          "output_type": "execute_result",
          "data": {
            "text/plain": [
              "array(['BrkFace', 'None', 'Stone', 'BrkCmn'], dtype=object)"
            ]
          },
          "metadata": {},
          "execution_count": 220
        }
      ]
    },
    {
      "cell_type": "code",
      "source": [
        "train.drop('Alley',axis=1,inplace=True)\n",
        "train.info()"
      ],
      "metadata": {
        "colab": {
          "base_uri": "https://localhost:8080/"
        },
        "id": "s3Qn8vGQCqDv",
        "outputId": "ffd60fb7-8c07-4fe6-9a13-e1e71e5abf85"
      },
      "execution_count": null,
      "outputs": [
        {
          "output_type": "stream",
          "name": "stdout",
          "text": [
            "<class 'pandas.core.frame.DataFrame'>\n",
            "RangeIndex: 1460 entries, 0 to 1459\n",
            "Data columns (total 80 columns):\n",
            " #   Column         Non-Null Count  Dtype  \n",
            "---  ------         --------------  -----  \n",
            " 0   Id             1460 non-null   int64  \n",
            " 1   MSSubClass     1460 non-null   int64  \n",
            " 2   MSZoning       1460 non-null   object \n",
            " 3   LotFrontage    1460 non-null   float64\n",
            " 4   LotArea        1460 non-null   int64  \n",
            " 5   Street         1460 non-null   object \n",
            " 6   LotShape       1460 non-null   object \n",
            " 7   LandContour    1460 non-null   object \n",
            " 8   Utilities      1460 non-null   object \n",
            " 9   LotConfig      1460 non-null   object \n",
            " 10  LandSlope      1460 non-null   object \n",
            " 11  Neighborhood   1460 non-null   object \n",
            " 12  Condition1     1460 non-null   object \n",
            " 13  Condition2     1460 non-null   object \n",
            " 14  BldgType       1460 non-null   object \n",
            " 15  HouseStyle     1460 non-null   object \n",
            " 16  OverallQual    1460 non-null   int64  \n",
            " 17  OverallCond    1460 non-null   int64  \n",
            " 18  YearBuilt      1460 non-null   int64  \n",
            " 19  YearRemodAdd   1460 non-null   int64  \n",
            " 20  RoofStyle      1460 non-null   object \n",
            " 21  RoofMatl       1460 non-null   object \n",
            " 22  Exterior1st    1460 non-null   object \n",
            " 23  Exterior2nd    1460 non-null   object \n",
            " 24  MasVnrType     1460 non-null   object \n",
            " 25  MasVnrArea     1452 non-null   float64\n",
            " 26  ExterQual      1460 non-null   object \n",
            " 27  ExterCond      1460 non-null   object \n",
            " 28  Foundation     1460 non-null   object \n",
            " 29  BsmtQual       1423 non-null   object \n",
            " 30  BsmtCond       1423 non-null   object \n",
            " 31  BsmtExposure   1422 non-null   object \n",
            " 32  BsmtFinType1   1423 non-null   object \n",
            " 33  BsmtFinSF1     1460 non-null   int64  \n",
            " 34  BsmtFinType2   1422 non-null   object \n",
            " 35  BsmtFinSF2     1460 non-null   int64  \n",
            " 36  BsmtUnfSF      1460 non-null   int64  \n",
            " 37  TotalBsmtSF    1460 non-null   int64  \n",
            " 38  Heating        1460 non-null   object \n",
            " 39  HeatingQC      1460 non-null   object \n",
            " 40  CentralAir     1460 non-null   object \n",
            " 41  Electrical     1459 non-null   object \n",
            " 42  1stFlrSF       1460 non-null   int64  \n",
            " 43  2ndFlrSF       1460 non-null   int64  \n",
            " 44  LowQualFinSF   1460 non-null   int64  \n",
            " 45  GrLivArea      1460 non-null   int64  \n",
            " 46  BsmtFullBath   1460 non-null   int64  \n",
            " 47  BsmtHalfBath   1460 non-null   int64  \n",
            " 48  FullBath       1460 non-null   int64  \n",
            " 49  HalfBath       1460 non-null   int64  \n",
            " 50  BedroomAbvGr   1460 non-null   int64  \n",
            " 51  KitchenAbvGr   1460 non-null   int64  \n",
            " 52  KitchenQual    1460 non-null   object \n",
            " 53  TotRmsAbvGrd   1460 non-null   int64  \n",
            " 54  Functional     1460 non-null   object \n",
            " 55  Fireplaces     1460 non-null   int64  \n",
            " 56  FireplaceQu    770 non-null    object \n",
            " 57  GarageType     1379 non-null   object \n",
            " 58  GarageYrBlt    1379 non-null   float64\n",
            " 59  GarageFinish   1379 non-null   object \n",
            " 60  GarageCars     1460 non-null   int64  \n",
            " 61  GarageArea     1460 non-null   int64  \n",
            " 62  GarageQual     1379 non-null   object \n",
            " 63  GarageCond     1379 non-null   object \n",
            " 64  PavedDrive     1460 non-null   object \n",
            " 65  WoodDeckSF     1460 non-null   int64  \n",
            " 66  OpenPorchSF    1460 non-null   int64  \n",
            " 67  EnclosedPorch  1460 non-null   int64  \n",
            " 68  3SsnPorch      1460 non-null   int64  \n",
            " 69  ScreenPorch    1460 non-null   int64  \n",
            " 70  PoolArea       1460 non-null   int64  \n",
            " 71  PoolQC         7 non-null      object \n",
            " 72  Fence          281 non-null    object \n",
            " 73  MiscFeature    54 non-null     object \n",
            " 74  MiscVal        1460 non-null   int64  \n",
            " 75  MoSold         1460 non-null   int64  \n",
            " 76  YrSold         1460 non-null   int64  \n",
            " 77  SaleType       1460 non-null   object \n",
            " 78  SaleCondition  1460 non-null   object \n",
            " 79  SalePrice      1460 non-null   int64  \n",
            "dtypes: float64(3), int64(35), object(42)\n",
            "memory usage: 912.6+ KB\n"
          ]
        }
      ]
    },
    {
      "cell_type": "code",
      "source": [
        "train.MSZoning.unique()"
      ],
      "metadata": {
        "colab": {
          "base_uri": "https://localhost:8080/"
        },
        "id": "aW783a7BFZUr",
        "outputId": "a01d0bab-1731-452b-f4fb-8c96259955ec"
      },
      "execution_count": null,
      "outputs": [
        {
          "output_type": "execute_result",
          "data": {
            "text/plain": [
              "array(['RL', 'RM', 'C (all)', 'FV', 'RH'], dtype=object)"
            ]
          },
          "metadata": {},
          "execution_count": 222
        }
      ]
    },
    {
      "cell_type": "code",
      "source": [
        "train.info()"
      ],
      "metadata": {
        "colab": {
          "base_uri": "https://localhost:8080/"
        },
        "id": "aJct59XDJ6hv",
        "outputId": "d2c1aa5a-214c-4df7-9b76-7ed2a3ec1125"
      },
      "execution_count": null,
      "outputs": [
        {
          "output_type": "stream",
          "name": "stdout",
          "text": [
            "<class 'pandas.core.frame.DataFrame'>\n",
            "RangeIndex: 1460 entries, 0 to 1459\n",
            "Data columns (total 80 columns):\n",
            " #   Column         Non-Null Count  Dtype  \n",
            "---  ------         --------------  -----  \n",
            " 0   Id             1460 non-null   int64  \n",
            " 1   MSSubClass     1460 non-null   int64  \n",
            " 2   MSZoning       1460 non-null   object \n",
            " 3   LotFrontage    1460 non-null   float64\n",
            " 4   LotArea        1460 non-null   int64  \n",
            " 5   Street         1460 non-null   object \n",
            " 6   LotShape       1460 non-null   object \n",
            " 7   LandContour    1460 non-null   object \n",
            " 8   Utilities      1460 non-null   object \n",
            " 9   LotConfig      1460 non-null   object \n",
            " 10  LandSlope      1460 non-null   object \n",
            " 11  Neighborhood   1460 non-null   object \n",
            " 12  Condition1     1460 non-null   object \n",
            " 13  Condition2     1460 non-null   object \n",
            " 14  BldgType       1460 non-null   object \n",
            " 15  HouseStyle     1460 non-null   object \n",
            " 16  OverallQual    1460 non-null   int64  \n",
            " 17  OverallCond    1460 non-null   int64  \n",
            " 18  YearBuilt      1460 non-null   int64  \n",
            " 19  YearRemodAdd   1460 non-null   int64  \n",
            " 20  RoofStyle      1460 non-null   object \n",
            " 21  RoofMatl       1460 non-null   object \n",
            " 22  Exterior1st    1460 non-null   object \n",
            " 23  Exterior2nd    1460 non-null   object \n",
            " 24  MasVnrType     1460 non-null   object \n",
            " 25  MasVnrArea     1452 non-null   float64\n",
            " 26  ExterQual      1460 non-null   object \n",
            " 27  ExterCond      1460 non-null   object \n",
            " 28  Foundation     1460 non-null   object \n",
            " 29  BsmtQual       1423 non-null   object \n",
            " 30  BsmtCond       1423 non-null   object \n",
            " 31  BsmtExposure   1422 non-null   object \n",
            " 32  BsmtFinType1   1423 non-null   object \n",
            " 33  BsmtFinSF1     1460 non-null   int64  \n",
            " 34  BsmtFinType2   1422 non-null   object \n",
            " 35  BsmtFinSF2     1460 non-null   int64  \n",
            " 36  BsmtUnfSF      1460 non-null   int64  \n",
            " 37  TotalBsmtSF    1460 non-null   int64  \n",
            " 38  Heating        1460 non-null   object \n",
            " 39  HeatingQC      1460 non-null   object \n",
            " 40  CentralAir     1460 non-null   object \n",
            " 41  Electrical     1459 non-null   object \n",
            " 42  1stFlrSF       1460 non-null   int64  \n",
            " 43  2ndFlrSF       1460 non-null   int64  \n",
            " 44  LowQualFinSF   1460 non-null   int64  \n",
            " 45  GrLivArea      1460 non-null   int64  \n",
            " 46  BsmtFullBath   1460 non-null   int64  \n",
            " 47  BsmtHalfBath   1460 non-null   int64  \n",
            " 48  FullBath       1460 non-null   int64  \n",
            " 49  HalfBath       1460 non-null   int64  \n",
            " 50  BedroomAbvGr   1460 non-null   int64  \n",
            " 51  KitchenAbvGr   1460 non-null   int64  \n",
            " 52  KitchenQual    1460 non-null   object \n",
            " 53  TotRmsAbvGrd   1460 non-null   int64  \n",
            " 54  Functional     1460 non-null   object \n",
            " 55  Fireplaces     1460 non-null   int64  \n",
            " 56  FireplaceQu    770 non-null    object \n",
            " 57  GarageType     1379 non-null   object \n",
            " 58  GarageYrBlt    1379 non-null   float64\n",
            " 59  GarageFinish   1379 non-null   object \n",
            " 60  GarageCars     1460 non-null   int64  \n",
            " 61  GarageArea     1460 non-null   int64  \n",
            " 62  GarageQual     1379 non-null   object \n",
            " 63  GarageCond     1379 non-null   object \n",
            " 64  PavedDrive     1460 non-null   object \n",
            " 65  WoodDeckSF     1460 non-null   int64  \n",
            " 66  OpenPorchSF    1460 non-null   int64  \n",
            " 67  EnclosedPorch  1460 non-null   int64  \n",
            " 68  3SsnPorch      1460 non-null   int64  \n",
            " 69  ScreenPorch    1460 non-null   int64  \n",
            " 70  PoolArea       1460 non-null   int64  \n",
            " 71  PoolQC         7 non-null      object \n",
            " 72  Fence          281 non-null    object \n",
            " 73  MiscFeature    54 non-null     object \n",
            " 74  MiscVal        1460 non-null   int64  \n",
            " 75  MoSold         1460 non-null   int64  \n",
            " 76  YrSold         1460 non-null   int64  \n",
            " 77  SaleType       1460 non-null   object \n",
            " 78  SaleCondition  1460 non-null   object \n",
            " 79  SalePrice      1460 non-null   int64  \n",
            "dtypes: float64(3), int64(35), object(42)\n",
            "memory usage: 912.6+ KB\n"
          ]
        }
      ]
    },
    {
      "cell_type": "code",
      "source": [
        "train.MasVnrArea.replace(np.nan, train.MasVnrArea.mean(),inplace=True)\n",
        "train.MasVnrArea.unique()"
      ],
      "metadata": {
        "colab": {
          "base_uri": "https://localhost:8080/"
        },
        "id": "fGvtasfGDD4x",
        "outputId": "26dbc811-5720-4625-98cc-f025cb8f7402"
      },
      "execution_count": null,
      "outputs": [
        {
          "output_type": "execute_result",
          "data": {
            "text/plain": [
              "array([1.96000000e+02, 0.00000000e+00, 1.62000000e+02, 3.50000000e+02,\n",
              "       1.86000000e+02, 2.40000000e+02, 2.86000000e+02, 3.06000000e+02,\n",
              "       2.12000000e+02, 1.80000000e+02, 3.80000000e+02, 2.81000000e+02,\n",
              "       6.40000000e+02, 2.00000000e+02, 2.46000000e+02, 1.32000000e+02,\n",
              "       6.50000000e+02, 1.01000000e+02, 4.12000000e+02, 2.72000000e+02,\n",
              "       4.56000000e+02, 1.03100000e+03, 1.78000000e+02, 5.73000000e+02,\n",
              "       3.44000000e+02, 2.87000000e+02, 1.67000000e+02, 1.11500000e+03,\n",
              "       4.00000000e+01, 1.04000000e+02, 5.76000000e+02, 4.43000000e+02,\n",
              "       4.68000000e+02, 6.60000000e+01, 2.20000000e+01, 2.84000000e+02,\n",
              "       7.60000000e+01, 2.03000000e+02, 6.80000000e+01, 1.83000000e+02,\n",
              "       4.80000000e+01, 2.80000000e+01, 3.36000000e+02, 6.00000000e+02,\n",
              "       7.68000000e+02, 4.80000000e+02, 2.20000000e+02, 1.84000000e+02,\n",
              "       1.12900000e+03, 1.16000000e+02, 1.35000000e+02, 2.66000000e+02,\n",
              "       8.50000000e+01, 3.09000000e+02, 1.36000000e+02, 2.88000000e+02,\n",
              "       7.00000000e+01, 3.20000000e+02, 5.00000000e+01, 1.20000000e+02,\n",
              "       4.36000000e+02, 2.52000000e+02, 8.40000000e+01, 6.64000000e+02,\n",
              "       2.26000000e+02, 3.00000000e+02, 6.53000000e+02, 1.12000000e+02,\n",
              "       4.91000000e+02, 2.68000000e+02, 7.48000000e+02, 9.80000000e+01,\n",
              "       2.75000000e+02, 1.38000000e+02, 2.05000000e+02, 2.62000000e+02,\n",
              "       1.28000000e+02, 2.60000000e+02, 1.53000000e+02, 6.40000000e+01,\n",
              "       3.12000000e+02, 1.60000000e+01, 9.22000000e+02, 1.42000000e+02,\n",
              "       2.90000000e+02, 1.27000000e+02, 5.06000000e+02, 2.97000000e+02,\n",
              "       1.03685262e+02, 6.04000000e+02, 2.54000000e+02, 3.60000000e+01,\n",
              "       1.02000000e+02, 4.72000000e+02, 4.81000000e+02, 1.08000000e+02,\n",
              "       3.02000000e+02, 1.72000000e+02, 3.99000000e+02, 2.70000000e+02,\n",
              "       4.60000000e+01, 2.10000000e+02, 1.74000000e+02, 3.48000000e+02,\n",
              "       3.15000000e+02, 2.99000000e+02, 3.40000000e+02, 1.66000000e+02,\n",
              "       7.20000000e+01, 3.10000000e+01, 3.40000000e+01, 2.38000000e+02,\n",
              "       1.60000000e+03, 3.65000000e+02, 5.60000000e+01, 1.50000000e+02,\n",
              "       2.78000000e+02, 2.56000000e+02, 2.25000000e+02, 3.70000000e+02,\n",
              "       3.88000000e+02, 1.75000000e+02, 2.96000000e+02, 1.46000000e+02,\n",
              "       1.13000000e+02, 1.76000000e+02, 6.16000000e+02, 3.00000000e+01,\n",
              "       1.06000000e+02, 8.70000000e+02, 3.62000000e+02, 5.30000000e+02,\n",
              "       5.00000000e+02, 5.10000000e+02, 2.47000000e+02, 3.05000000e+02,\n",
              "       2.55000000e+02, 1.25000000e+02, 1.00000000e+02, 4.32000000e+02,\n",
              "       1.26000000e+02, 4.73000000e+02, 7.40000000e+01, 1.45000000e+02,\n",
              "       2.32000000e+02, 3.76000000e+02, 4.20000000e+01, 1.61000000e+02,\n",
              "       1.10000000e+02, 1.80000000e+01, 2.24000000e+02, 2.48000000e+02,\n",
              "       8.00000000e+01, 3.04000000e+02, 2.15000000e+02, 7.72000000e+02,\n",
              "       4.35000000e+02, 3.78000000e+02, 5.62000000e+02, 1.68000000e+02,\n",
              "       8.90000000e+01, 2.85000000e+02, 3.60000000e+02, 9.40000000e+01,\n",
              "       3.33000000e+02, 9.21000000e+02, 7.62000000e+02, 5.94000000e+02,\n",
              "       2.19000000e+02, 1.88000000e+02, 4.79000000e+02, 5.84000000e+02,\n",
              "       1.82000000e+02, 2.50000000e+02, 2.92000000e+02, 2.45000000e+02,\n",
              "       2.07000000e+02, 8.20000000e+01, 9.70000000e+01, 3.35000000e+02,\n",
              "       2.08000000e+02, 4.20000000e+02, 1.70000000e+02, 4.59000000e+02,\n",
              "       2.80000000e+02, 9.90000000e+01, 1.92000000e+02, 2.04000000e+02,\n",
              "       2.33000000e+02, 1.56000000e+02, 4.52000000e+02, 5.13000000e+02,\n",
              "       2.61000000e+02, 1.64000000e+02, 2.59000000e+02, 2.09000000e+02,\n",
              "       2.63000000e+02, 2.16000000e+02, 3.51000000e+02, 6.60000000e+02,\n",
              "       3.81000000e+02, 5.40000000e+01, 5.28000000e+02, 2.58000000e+02,\n",
              "       4.64000000e+02, 5.70000000e+01, 1.47000000e+02, 1.17000000e+03,\n",
              "       2.93000000e+02, 6.30000000e+02, 4.66000000e+02, 1.09000000e+02,\n",
              "       4.10000000e+01, 1.60000000e+02, 2.89000000e+02, 6.51000000e+02,\n",
              "       1.69000000e+02, 9.50000000e+01, 4.42000000e+02, 2.02000000e+02,\n",
              "       3.38000000e+02, 8.94000000e+02, 3.28000000e+02, 6.73000000e+02,\n",
              "       6.03000000e+02, 1.00000000e+00, 3.75000000e+02, 9.00000000e+01,\n",
              "       3.80000000e+01, 1.57000000e+02, 1.10000000e+01, 1.40000000e+02,\n",
              "       1.30000000e+02, 1.48000000e+02, 8.60000000e+02, 4.24000000e+02,\n",
              "       1.04700000e+03, 2.43000000e+02, 8.16000000e+02, 3.87000000e+02,\n",
              "       2.23000000e+02, 1.58000000e+02, 1.37000000e+02, 1.15000000e+02,\n",
              "       1.89000000e+02, 2.74000000e+02, 1.17000000e+02, 6.00000000e+01,\n",
              "       1.22000000e+02, 9.20000000e+01, 4.15000000e+02, 7.60000000e+02,\n",
              "       2.70000000e+01, 7.50000000e+01, 3.61000000e+02, 1.05000000e+02,\n",
              "       3.42000000e+02, 2.98000000e+02, 5.41000000e+02, 2.36000000e+02,\n",
              "       1.44000000e+02, 4.23000000e+02, 4.40000000e+01, 1.51000000e+02,\n",
              "       9.75000000e+02, 4.50000000e+02, 2.30000000e+02, 5.71000000e+02,\n",
              "       2.40000000e+01, 5.30000000e+01, 2.06000000e+02, 1.40000000e+01,\n",
              "       3.24000000e+02, 2.95000000e+02, 3.96000000e+02, 6.70000000e+01,\n",
              "       1.54000000e+02, 4.25000000e+02, 4.50000000e+01, 1.37800000e+03,\n",
              "       3.37000000e+02, 1.49000000e+02, 1.43000000e+02, 5.10000000e+01,\n",
              "       1.71000000e+02, 2.34000000e+02, 6.30000000e+01, 7.66000000e+02,\n",
              "       3.20000000e+01, 8.10000000e+01, 1.63000000e+02, 5.54000000e+02,\n",
              "       2.18000000e+02, 6.32000000e+02, 1.14000000e+02, 5.67000000e+02,\n",
              "       3.59000000e+02, 4.51000000e+02, 6.21000000e+02, 7.88000000e+02,\n",
              "       8.60000000e+01, 7.96000000e+02, 3.91000000e+02, 2.28000000e+02,\n",
              "       8.80000000e+01, 1.65000000e+02, 4.28000000e+02, 4.10000000e+02,\n",
              "       5.64000000e+02, 3.68000000e+02, 3.18000000e+02, 5.79000000e+02,\n",
              "       6.50000000e+01, 7.05000000e+02, 4.08000000e+02, 2.44000000e+02,\n",
              "       1.23000000e+02, 3.66000000e+02, 7.31000000e+02, 4.48000000e+02,\n",
              "       2.94000000e+02, 3.10000000e+02, 2.37000000e+02, 4.26000000e+02,\n",
              "       9.60000000e+01, 4.38000000e+02, 1.94000000e+02, 1.19000000e+02])"
            ]
          },
          "metadata": {},
          "execution_count": 224
        }
      ]
    },
    {
      "cell_type": "code",
      "source": [
        "train.BsmtQual.replace(np.nan, 'Gd' , inplace= True)\n",
        "train.BsmtQual.unique()"
      ],
      "metadata": {
        "colab": {
          "base_uri": "https://localhost:8080/"
        },
        "id": "_QNJf6saDuVw",
        "outputId": "259bfbe4-cdb0-4a6c-924d-8eebf87e4ee0"
      },
      "execution_count": null,
      "outputs": [
        {
          "output_type": "execute_result",
          "data": {
            "text/plain": [
              "array(['Gd', 'TA', 'Ex', 'Fa'], dtype=object)"
            ]
          },
          "metadata": {},
          "execution_count": 225
        }
      ]
    },
    {
      "cell_type": "code",
      "source": [
        "from sklearn.preprocessing import LabelEncoder\n",
        "enc = LabelEncoder()\n",
        "col = ['MSZoning' , 'Street' , 'Street', 'LotShape','LandContour','Utilities','LotConfig','LandSlope','Neighborhood','Condition1','Condition2','BldgType','HouseStyle',\n",
        "    'RoofStyle','RoofMatl','Exterior1st','Exterior2nd','MasVnrType','ExterQual','ExterCond','Foundation','BsmtQual']\n",
        "for i in col:\n",
        "    train[i]=enc.fit_transform(train[i])"
      ],
      "metadata": {
        "id": "RyIrpVPnKMqw"
      },
      "execution_count": null,
      "outputs": []
    },
    {
      "cell_type": "code",
      "source": [
        "train.info()"
      ],
      "metadata": {
        "colab": {
          "base_uri": "https://localhost:8080/"
        },
        "id": "lTT_-oBIKfGx",
        "outputId": "04c693a2-464d-4fcd-fab7-d751e5ddd9b7"
      },
      "execution_count": null,
      "outputs": [
        {
          "output_type": "stream",
          "name": "stdout",
          "text": [
            "<class 'pandas.core.frame.DataFrame'>\n",
            "RangeIndex: 1460 entries, 0 to 1459\n",
            "Data columns (total 80 columns):\n",
            " #   Column         Non-Null Count  Dtype  \n",
            "---  ------         --------------  -----  \n",
            " 0   Id             1460 non-null   int64  \n",
            " 1   MSSubClass     1460 non-null   int64  \n",
            " 2   MSZoning       1460 non-null   int64  \n",
            " 3   LotFrontage    1460 non-null   float64\n",
            " 4   LotArea        1460 non-null   int64  \n",
            " 5   Street         1460 non-null   int64  \n",
            " 6   LotShape       1460 non-null   int64  \n",
            " 7   LandContour    1460 non-null   int64  \n",
            " 8   Utilities      1460 non-null   int64  \n",
            " 9   LotConfig      1460 non-null   int64  \n",
            " 10  LandSlope      1460 non-null   int64  \n",
            " 11  Neighborhood   1460 non-null   int64  \n",
            " 12  Condition1     1460 non-null   int64  \n",
            " 13  Condition2     1460 non-null   int64  \n",
            " 14  BldgType       1460 non-null   int64  \n",
            " 15  HouseStyle     1460 non-null   int64  \n",
            " 16  OverallQual    1460 non-null   int64  \n",
            " 17  OverallCond    1460 non-null   int64  \n",
            " 18  YearBuilt      1460 non-null   int64  \n",
            " 19  YearRemodAdd   1460 non-null   int64  \n",
            " 20  RoofStyle      1460 non-null   int64  \n",
            " 21  RoofMatl       1460 non-null   int64  \n",
            " 22  Exterior1st    1460 non-null   int64  \n",
            " 23  Exterior2nd    1460 non-null   int64  \n",
            " 24  MasVnrType     1460 non-null   int64  \n",
            " 25  MasVnrArea     1460 non-null   float64\n",
            " 26  ExterQual      1460 non-null   int64  \n",
            " 27  ExterCond      1460 non-null   int64  \n",
            " 28  Foundation     1460 non-null   int64  \n",
            " 29  BsmtQual       1460 non-null   int64  \n",
            " 30  BsmtCond       1423 non-null   object \n",
            " 31  BsmtExposure   1422 non-null   object \n",
            " 32  BsmtFinType1   1423 non-null   object \n",
            " 33  BsmtFinSF1     1460 non-null   int64  \n",
            " 34  BsmtFinType2   1422 non-null   object \n",
            " 35  BsmtFinSF2     1460 non-null   int64  \n",
            " 36  BsmtUnfSF      1460 non-null   int64  \n",
            " 37  TotalBsmtSF    1460 non-null   int64  \n",
            " 38  Heating        1460 non-null   object \n",
            " 39  HeatingQC      1460 non-null   object \n",
            " 40  CentralAir     1460 non-null   object \n",
            " 41  Electrical     1459 non-null   object \n",
            " 42  1stFlrSF       1460 non-null   int64  \n",
            " 43  2ndFlrSF       1460 non-null   int64  \n",
            " 44  LowQualFinSF   1460 non-null   int64  \n",
            " 45  GrLivArea      1460 non-null   int64  \n",
            " 46  BsmtFullBath   1460 non-null   int64  \n",
            " 47  BsmtHalfBath   1460 non-null   int64  \n",
            " 48  FullBath       1460 non-null   int64  \n",
            " 49  HalfBath       1460 non-null   int64  \n",
            " 50  BedroomAbvGr   1460 non-null   int64  \n",
            " 51  KitchenAbvGr   1460 non-null   int64  \n",
            " 52  KitchenQual    1460 non-null   object \n",
            " 53  TotRmsAbvGrd   1460 non-null   int64  \n",
            " 54  Functional     1460 non-null   object \n",
            " 55  Fireplaces     1460 non-null   int64  \n",
            " 56  FireplaceQu    770 non-null    object \n",
            " 57  GarageType     1379 non-null   object \n",
            " 58  GarageYrBlt    1379 non-null   float64\n",
            " 59  GarageFinish   1379 non-null   object \n",
            " 60  GarageCars     1460 non-null   int64  \n",
            " 61  GarageArea     1460 non-null   int64  \n",
            " 62  GarageQual     1379 non-null   object \n",
            " 63  GarageCond     1379 non-null   object \n",
            " 64  PavedDrive     1460 non-null   object \n",
            " 65  WoodDeckSF     1460 non-null   int64  \n",
            " 66  OpenPorchSF    1460 non-null   int64  \n",
            " 67  EnclosedPorch  1460 non-null   int64  \n",
            " 68  3SsnPorch      1460 non-null   int64  \n",
            " 69  ScreenPorch    1460 non-null   int64  \n",
            " 70  PoolArea       1460 non-null   int64  \n",
            " 71  PoolQC         7 non-null      object \n",
            " 72  Fence          281 non-null    object \n",
            " 73  MiscFeature    54 non-null     object \n",
            " 74  MiscVal        1460 non-null   int64  \n",
            " 75  MoSold         1460 non-null   int64  \n",
            " 76  YrSold         1460 non-null   int64  \n",
            " 77  SaleType       1460 non-null   object \n",
            " 78  SaleCondition  1460 non-null   object \n",
            " 79  SalePrice      1460 non-null   int64  \n",
            "dtypes: float64(3), int64(56), object(21)\n",
            "memory usage: 912.6+ KB\n"
          ]
        }
      ]
    },
    {
      "cell_type": "code",
      "source": [
        "train.BsmtCond.replace(np.nan,'TA',inplace=True)\n",
        "train.info()"
      ],
      "metadata": {
        "colab": {
          "base_uri": "https://localhost:8080/"
        },
        "id": "k8xw6-87LL7C",
        "outputId": "9eea12d5-ae7c-4826-ea3a-aa38665f478e"
      },
      "execution_count": null,
      "outputs": [
        {
          "output_type": "stream",
          "name": "stdout",
          "text": [
            "<class 'pandas.core.frame.DataFrame'>\n",
            "RangeIndex: 1460 entries, 0 to 1459\n",
            "Data columns (total 80 columns):\n",
            " #   Column         Non-Null Count  Dtype  \n",
            "---  ------         --------------  -----  \n",
            " 0   Id             1460 non-null   int64  \n",
            " 1   MSSubClass     1460 non-null   int64  \n",
            " 2   MSZoning       1460 non-null   int64  \n",
            " 3   LotFrontage    1460 non-null   float64\n",
            " 4   LotArea        1460 non-null   int64  \n",
            " 5   Street         1460 non-null   int64  \n",
            " 6   LotShape       1460 non-null   int64  \n",
            " 7   LandContour    1460 non-null   int64  \n",
            " 8   Utilities      1460 non-null   int64  \n",
            " 9   LotConfig      1460 non-null   int64  \n",
            " 10  LandSlope      1460 non-null   int64  \n",
            " 11  Neighborhood   1460 non-null   int64  \n",
            " 12  Condition1     1460 non-null   int64  \n",
            " 13  Condition2     1460 non-null   int64  \n",
            " 14  BldgType       1460 non-null   int64  \n",
            " 15  HouseStyle     1460 non-null   int64  \n",
            " 16  OverallQual    1460 non-null   int64  \n",
            " 17  OverallCond    1460 non-null   int64  \n",
            " 18  YearBuilt      1460 non-null   int64  \n",
            " 19  YearRemodAdd   1460 non-null   int64  \n",
            " 20  RoofStyle      1460 non-null   int64  \n",
            " 21  RoofMatl       1460 non-null   int64  \n",
            " 22  Exterior1st    1460 non-null   int64  \n",
            " 23  Exterior2nd    1460 non-null   int64  \n",
            " 24  MasVnrType     1460 non-null   int64  \n",
            " 25  MasVnrArea     1460 non-null   float64\n",
            " 26  ExterQual      1460 non-null   int64  \n",
            " 27  ExterCond      1460 non-null   int64  \n",
            " 28  Foundation     1460 non-null   int64  \n",
            " 29  BsmtQual       1460 non-null   int64  \n",
            " 30  BsmtCond       1460 non-null   object \n",
            " 31  BsmtExposure   1422 non-null   object \n",
            " 32  BsmtFinType1   1423 non-null   object \n",
            " 33  BsmtFinSF1     1460 non-null   int64  \n",
            " 34  BsmtFinType2   1422 non-null   object \n",
            " 35  BsmtFinSF2     1460 non-null   int64  \n",
            " 36  BsmtUnfSF      1460 non-null   int64  \n",
            " 37  TotalBsmtSF    1460 non-null   int64  \n",
            " 38  Heating        1460 non-null   object \n",
            " 39  HeatingQC      1460 non-null   object \n",
            " 40  CentralAir     1460 non-null   object \n",
            " 41  Electrical     1459 non-null   object \n",
            " 42  1stFlrSF       1460 non-null   int64  \n",
            " 43  2ndFlrSF       1460 non-null   int64  \n",
            " 44  LowQualFinSF   1460 non-null   int64  \n",
            " 45  GrLivArea      1460 non-null   int64  \n",
            " 46  BsmtFullBath   1460 non-null   int64  \n",
            " 47  BsmtHalfBath   1460 non-null   int64  \n",
            " 48  FullBath       1460 non-null   int64  \n",
            " 49  HalfBath       1460 non-null   int64  \n",
            " 50  BedroomAbvGr   1460 non-null   int64  \n",
            " 51  KitchenAbvGr   1460 non-null   int64  \n",
            " 52  KitchenQual    1460 non-null   object \n",
            " 53  TotRmsAbvGrd   1460 non-null   int64  \n",
            " 54  Functional     1460 non-null   object \n",
            " 55  Fireplaces     1460 non-null   int64  \n",
            " 56  FireplaceQu    770 non-null    object \n",
            " 57  GarageType     1379 non-null   object \n",
            " 58  GarageYrBlt    1379 non-null   float64\n",
            " 59  GarageFinish   1379 non-null   object \n",
            " 60  GarageCars     1460 non-null   int64  \n",
            " 61  GarageArea     1460 non-null   int64  \n",
            " 62  GarageQual     1379 non-null   object \n",
            " 63  GarageCond     1379 non-null   object \n",
            " 64  PavedDrive     1460 non-null   object \n",
            " 65  WoodDeckSF     1460 non-null   int64  \n",
            " 66  OpenPorchSF    1460 non-null   int64  \n",
            " 67  EnclosedPorch  1460 non-null   int64  \n",
            " 68  3SsnPorch      1460 non-null   int64  \n",
            " 69  ScreenPorch    1460 non-null   int64  \n",
            " 70  PoolArea       1460 non-null   int64  \n",
            " 71  PoolQC         7 non-null      object \n",
            " 72  Fence          281 non-null    object \n",
            " 73  MiscFeature    54 non-null     object \n",
            " 74  MiscVal        1460 non-null   int64  \n",
            " 75  MoSold         1460 non-null   int64  \n",
            " 76  YrSold         1460 non-null   int64  \n",
            " 77  SaleType       1460 non-null   object \n",
            " 78  SaleCondition  1460 non-null   object \n",
            " 79  SalePrice      1460 non-null   int64  \n",
            "dtypes: float64(3), int64(56), object(21)\n",
            "memory usage: 912.6+ KB\n"
          ]
        }
      ]
    }
  ]
}